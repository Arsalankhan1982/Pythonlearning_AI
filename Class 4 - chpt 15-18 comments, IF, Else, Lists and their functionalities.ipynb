{
 "cells": [
  {
   "cell_type": "markdown",
   "metadata": {},
   "source": [
    "# Class 4 - comments onwards"
   ]
  },
  {
   "cell_type": "code",
   "execution_count": 2,
   "metadata": {},
   "outputs": [
    {
     "name": "stdout",
     "output_type": "stream",
     "text": [
      "testing class 4 commenting\n"
     ]
    }
   ],
   "source": [
    "print (\"testing class 4 commenting\")"
   ]
  },
  {
   "cell_type": "code",
   "execution_count": 3,
   "metadata": {},
   "outputs": [
    {
     "name": "stdout",
     "output_type": "stream",
     "text": [
      "Enter total for Maths: 29\n",
      "Enter total for English: 30\n",
      "Enter total for Urdu: 40\n",
      "Enter total for Physics: 59\n",
      "Enter total for Chemistry: 60\n",
      "218 = Math 29 + English  30 +Urdu  40 + Physics 59 + Chemistry 60\n",
      "F\n",
      "43.6 % marks obtained\n",
      "43.6 A 218\n"
     ]
    }
   ],
   "source": [
    "total_marks = 500\n",
    "\n",
    "math=int(input(\"Enter total for Maths: \"))\n",
    "english=int(input(\"Enter total for English: \"))\n",
    "urdu=int(input(\"Enter total for Urdu: \"))\n",
    "physics=int(input(\"Enter total for Physics: \"))\n",
    "chemistry=int(input(\"Enter total for Chemistry: \"))\n",
    "\n",
    "obtained_marks=math+english+urdu+physics+chemistry\n",
    "print(obtained_marks,\"= Math\",math,\"+ English \",english,\"+Urdu \", urdu, \"+ Physics\", physics,\"+ Chemistry\",chemistry)\n",
    "\n",
    "\n",
    "\n",
    "percentage = (int(obtained_marks) / int(total_marks))*100\n",
    "\n",
    "grade = \"A\"\n",
    "\n",
    "if (float(percentage))>=90:\n",
    "    print(\"A+\")\n",
    "elif (float(percentage))>=80:\n",
    "    print(\"A\")\n",
    "elif (float(percentage))>=70:\n",
    "    print(\"B\")\n",
    "elif (float(percentage))>=60:\n",
    "    print(\"C\")\n",
    "else:\n",
    "    print(\"F\")\n",
    "    \n",
    "    \n",
    "percentage = (int(obtained_marks) / int(total_marks))*100\n",
    "print (percentage,\"% marks obtained\")\n",
    "print (percentage, grade, obtained_marks)"
   ]
  },
  {
   "cell_type": "code",
   "execution_count": 21,
   "metadata": {},
   "outputs": [
    {
     "name": "stdout",
     "output_type": "stream",
     "text": [
      "nic Yes (Y) or No (N) ? N\n",
      "Is your name in Voter list? Yes (Y) or No (N)N\n",
      "not eligible to vote!\n"
     ]
    }
   ],
   "source": [
    "cnic = input('nic Yes (Y) or No (N) ? ')\n",
    "VoterList = input('Is your name in Voter list? Yes (Y) or No (N)')\n",
    "if VoterList == \"Y\" and cnic == \"Y\":\n",
    "    print(\"eligible to vote!\")\n",
    "else: \n",
    "    print (\"not eligible to vote!\")\n"
   ]
  },
  {
   "cell_type": "code",
   "execution_count": 2,
   "metadata": {},
   "outputs": [
    {
     "name": "stdout",
     "output_type": "stream",
     "text": [
      "is it sunday today (Y) or (N) ? Y\n",
      "Do you have PSL final ticket? Yes (Y) or No (N)Y\n",
      "Your wife ok with this? Yes (Y) or No (N)Y\n",
      "Enjoy the FINAL!!\n"
     ]
    }
   ],
   "source": [
    "myday = input('is it sunday today (Y) or (N) ? ')\n",
    "ticket = input('Do you have PSL final ticket? Yes (Y) or No (N)')\n",
    "wife = input('Your wife ok with this? Yes (Y) or No (N)')\n",
    "if myday == \"Y\" and ticket == \"Y\" and wife == \"Y\":\n",
    "    print(\"Enjoy the FINAL!!\")\n",
    "else: \n",
    "    print (\"Sorry! no PSL Finals for you!\")"
   ]
  },
  {
   "cell_type": "markdown",
   "metadata": {},
   "source": [
    "# LISTS"
   ]
  },
  {
   "cell_type": "code",
   "execution_count": 34,
   "metadata": {},
   "outputs": [
    {
     "name": "stdout",
     "output_type": "stream",
     "text": [
      "the fastest production car is  Tesla\n"
     ]
    }
   ],
   "source": [
    "dishes = []\n",
    "# Lists can have multiple data types - unlike arrays in other languages\n",
    "# so we can have a list which has strings with integers\n",
    "cars = ['Tesla', 'Audi', 3]\n",
    "cars\n",
    "# print first car name\n",
    "cars[0]\n",
    "print ('the fastest production car is ', cars[0])\n",
    "cars\n"
   ]
  },
  {
   "cell_type": "code",
   "execution_count": 58,
   "metadata": {},
   "outputs": [
    {
     "name": "stdout",
     "output_type": "stream",
     "text": [
      "['Karachi', 'Lahore', 'Islamabad']\n",
      "['Karachi', 'Multan', 'Islamabad']\n",
      "['Karachi', 'Islamabad']\n",
      "['Karachi', 'Islamabad', 'myTestCity']\n",
      "['Karachi', 'Islamabad', 'Added to second location', 'myTestCity']\n",
      "4\n",
      "['Karachi', 'Islamabad', 'Added to second location', 'myTestCity', 'testing a city with index 3000']\n",
      "5\n",
      "['Karachi', 'Islamabad', 'Added to second location', 'myTestCity', 'testing a city with index 3000', 'Karachi']\n",
      "['get lost', 'Islamabad', 'Added to second location', 'myTestCity', 'testing a city with index 3000', 'Karachi']\n",
      "True\n",
      "False\n"
     ]
    }
   ],
   "source": [
    "# replacing a value in a list\n",
    "cities=['Karachi', 'Lahore', 'Islamabad']\n",
    "print(cities)\n",
    "cities[1]='Multan'\n",
    "print(cities)\n",
    "\n",
    "#deleting values in a list\n",
    "del cities[1]\n",
    "print(cities)\n",
    "\n",
    "#inserting a value in a list  - called apppend\n",
    "cities.append ('myTestCity')\n",
    "print(cities)\n",
    "\n",
    "#inserting a value in a specific location\n",
    "cities.insert(2,'Added to second location')\n",
    "print(cities)\n",
    "\n",
    "#check length of list\n",
    "print(len(cities))\n",
    "\n",
    "\n",
    "#if the insert value is inserted on an index value exceeding the list size, it would automatically add the new item at the end (no error)\n",
    "cities.insert(3000,'testing a city with index 3000')\n",
    "print(cities)\n",
    "\n",
    "#check length of list\n",
    "print(len(cities))\n",
    "\n",
    "# Search for an item in the list\n",
    "cities.index(\"Karachi\")\n",
    "\n",
    "#seraching for duplicate data in an array = \n",
    "cities.insert(100,\"Karachi\")\n",
    "print(cities)\n",
    "cities.index(\"Karachi\")\n",
    "\n",
    "#update a value in the list\n",
    "cities[0]=\"get lost\"\n",
    "print(cities)\n",
    "\n",
    "#checking if a value is in the list or not - searches for the item and returns TRUE or FALSE\n",
    "print (\"Karachi\" in cities)\n",
    "print (\"Kar\" in cities)\n",
    "\n",
    "\n"
   ]
  },
  {
   "cell_type": "code",
   "execution_count": 94,
   "metadata": {},
   "outputs": [
    {
     "name": "stdout",
     "output_type": "stream",
     "text": [
      "['friend1', 'friend2', 'friend3']\n",
      "['friend1', 'friend2', 'LastFriend']\n",
      "['first friend', 'friend1', 'friend2', 'LastFriend']\n",
      "['first friend', 'friend1', 'friend2', 'LastFriend', 'Another Friend']\n",
      "5\n",
      "['friend1', 'friend2', 'LastFriend', 'Another Friend']\n",
      "True\n",
      "1\n",
      "[['a', 25, True, ['c', 'd']], ['dummy data', 2]]\n",
      "[['a', 25, True, ['c', 'd']], ['dummy data', 2]]\n",
      "['c', 'd']\n"
     ]
    }
   ],
   "source": [
    "myfriends = [\"friend1\",'friend2','friend3']\n",
    "print(myfriends)\n",
    "myfriends[2]='LastFriend'\n",
    "print(myfriends)\n",
    "myfriends.insert(0,\"first friend\")\n",
    "print(myfriends)\n",
    "myfriends.append ('Another Friend')\n",
    "print(myfriends)\n",
    "print(len(myfriends))\n",
    "del myfriends[0]\n",
    "print(myfriends)\n",
    "print(\"friend1\" in myfriends)\n",
    "print(myfriends.index(\"friend2\"))\n",
    "\n",
    "first_list = [\"a\",25,True,[\"c\",\"d\"]]\n",
    "first_list\n",
    "second_List = [\"dummy data\", 2]\n",
    "third_list=[first_list,second_List]\n",
    "print(third_list)\n",
    "# to call the item within the list  \n",
    "print(third_list)\n",
    "print(third_list[0][3])\n",
    "\n",
    "\n"
   ]
  },
  {
   "cell_type": "code",
   "execution_count": null,
   "metadata": {},
   "outputs": [],
   "source": []
  }
 ],
 "metadata": {
  "kernelspec": {
   "display_name": "Python 3",
   "language": "python",
   "name": "python3"
  },
  "language_info": {
   "codemirror_mode": {
    "name": "ipython",
    "version": 3
   },
   "file_extension": ".py",
   "mimetype": "text/x-python",
   "name": "python",
   "nbconvert_exporter": "python",
   "pygments_lexer": "ipython3",
   "version": "3.7.1"
  }
 },
 "nbformat": 4,
 "nbformat_minor": 2
}
