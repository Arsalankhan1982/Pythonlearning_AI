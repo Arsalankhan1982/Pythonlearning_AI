{
 "cells": [
  {
   "cell_type": "markdown",
   "metadata": {},
   "source": [
    " <h2>Select the odd items in the given list</h2>"
   ]
  },
  {
   "cell_type": "code",
   "execution_count": 1,
   "metadata": {},
   "outputs": [],
   "source": [
    "x = [1, 2, 3, 4, 5, 6, 7, 8, 9]"
   ]
  },
  {
   "cell_type": "code",
   "execution_count": 2,
   "metadata": {},
   "outputs": [
    {
     "name": "stdout",
     "output_type": "stream",
     "text": [
      "1 is Odd\n",
      "2 is even\n",
      "3 is Odd\n",
      "4 is even\n",
      "5 is Odd\n",
      "6 is even\n",
      "7 is Odd\n",
      "8 is even\n",
      "9 is Odd\n"
     ]
    }
   ],
   "source": [
    "for a in x:\n",
    "    if (a % 2) == 0:\n",
    "        print(a, \"is even\")\n",
    "    else:\n",
    "        print(a, \"is Odd\")"
   ]
  },
  {
   "cell_type": "markdown",
   "metadata": {},
   "source": [
    "<h2>Write a python program to print website suffix like (.com .org .pk)</h2>"
   ]
  },
  {
   "cell_type": "code",
   "execution_count": 3,
   "metadata": {},
   "outputs": [
    {
     "name": "stdout",
     "output_type": "stream",
     "text": [
      "www.zframez.com\n"
     ]
    }
   ],
   "source": [
    "firstSuffix = \"www.zframez.com\"\n",
    "#write your code here\n",
    "print(firstSuffix)"
   ]
  },
  {
   "cell_type": "code",
   "execution_count": 4,
   "metadata": {},
   "outputs": [
    {
     "name": "stdout",
     "output_type": "stream",
     "text": [
      "www.wikipedia.org\n"
     ]
    }
   ],
   "source": [
    "secondSuffix = \"www.wikipedia.org\"\n",
    "#write your code here\n",
    "print(secondSuffix)"
   ]
  },
  {
   "cell_type": "code",
   "execution_count": 5,
   "metadata": {},
   "outputs": [
    {
     "name": "stdout",
     "output_type": "stream",
     "text": [
      "www.heroku.pk\n"
     ]
    }
   ],
   "source": [
    "thirdSuffix = \"www.heroku.pk\"\n",
    "#write your code here\n",
    "print(thirdSuffix)"
   ]
  },
  {
   "cell_type": "code",
   "execution_count": 6,
   "metadata": {},
   "outputs": [
    {
     "name": "stdout",
     "output_type": "stream",
     "text": [
      "www.zframez.com\n",
      "www.wikipedia.org\n",
      "www.heroku.pk\n"
     ]
    }
   ],
   "source": [
    "print(firstSuffix,secondSuffix,thirdSuffix, sep = \"\\n\")"
   ]
  },
  {
   "cell_type": "markdown",
   "metadata": {},
   "source": [
    "<h2>Write a python program that counts the number of occurance of the word python in given string\n",
    "</h2>"
   ]
  },
  {
   "cell_type": "markdown",
   "metadata": {},
   "source": [
    "<h4>HINT : Explore the count method in pyhton</h4>"
   ]
  },
  {
   "cell_type": "code",
   "execution_count": 8,
   "metadata": {},
   "outputs": [],
   "source": [
    "summary = \"python is an interpreted, object-oriented programming A notable feature of python is its indenting of source statements\""
   ]
  },
  {
   "cell_type": "code",
   "execution_count": 9,
   "metadata": {},
   "outputs": [
    {
     "data": {
      "text/plain": [
       "119"
      ]
     },
     "execution_count": 9,
     "metadata": {},
     "output_type": "execute_result"
    }
   ],
   "source": [
    "len(summary)"
   ]
  },
  {
   "cell_type": "code",
   "execution_count": 10,
   "metadata": {},
   "outputs": [
    {
     "data": {
      "text/plain": [
       "['python',\n",
       " 'is',\n",
       " 'an',\n",
       " 'interpreted,',\n",
       " 'object-oriented',\n",
       " 'programming',\n",
       " 'A',\n",
       " 'notable',\n",
       " 'feature',\n",
       " 'of',\n",
       " 'python',\n",
       " 'is',\n",
       " 'its',\n",
       " 'indenting',\n",
       " 'of',\n",
       " 'source',\n",
       " 'statements']"
      ]
     },
     "execution_count": 10,
     "metadata": {},
     "output_type": "execute_result"
    }
   ],
   "source": [
    "summary.split()"
   ]
  },
  {
   "cell_type": "code",
   "execution_count": 11,
   "metadata": {},
   "outputs": [
    {
     "data": {
      "text/plain": [
       "119"
      ]
     },
     "execution_count": 11,
     "metadata": {},
     "output_type": "execute_result"
    }
   ],
   "source": [
    "len(summary)"
   ]
  },
  {
   "cell_type": "code",
   "execution_count": null,
   "metadata": {},
   "outputs": [],
   "source": []
  }
 ],
 "metadata": {
  "kernelspec": {
   "display_name": "Python 3",
   "language": "python",
   "name": "python3"
  },
  "language_info": {
   "codemirror_mode": {
    "name": "ipython",
    "version": 3
   },
   "file_extension": ".py",
   "mimetype": "text/x-python",
   "name": "python",
   "nbconvert_exporter": "python",
   "pygments_lexer": "ipython3",
   "version": "3.7.1"
  }
 },
 "nbformat": 4,
 "nbformat_minor": 2
}
