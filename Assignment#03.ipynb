{
 "cells": [
  {
   "cell_type": "code",
   "execution_count": 7,
   "metadata": {},
   "outputs": [
    {
     "name": "stdout",
     "output_type": "stream",
     "text": [
      "    ATM  Machine  \n",
      "\n",
      "To deposit type d or\n",
      "\n",
      "To withdraw type w\n",
      "\n",
      "Enter transaction type here: w\n",
      "Amount is    1000\n",
      "Enter withdraw amount 200\n",
      "Total amount is  800\n"
     ]
    }
   ],
   "source": [
    "print(\"    ATM  Machine  \")\n",
    "print('''\n",
    "To deposit type: d\n",
    "\n",
    "To withdraw type: w\n",
    "''')\n",
    "amount=1000\n",
    "transaction=input(\"Enter transaction type here: \")\n",
    "\n",
    "\n",
    "if transaction.lower()==\"d\":\n",
    "    print(\"Amount is \",amount)\n",
    "    deposit=int(input(\"Enter deposit amount \"))\n",
    "    if deposit>0:\n",
    "        add=(amount+deposit)\n",
    "        print(\"Total amount \",add)\n",
    "    else:\n",
    "        print(\"No amount deposited\")\n",
    "\n",
    "elif transaction.lower()==\"w\":\n",
    "    print(\"Amount is   \",amount)\n",
    "    withdraw=int(input(\"Enter withdraw amount \"))\n",
    "    if withdraw>0 and withdraw < amount:\n",
    "        sub=(amount-withdraw)\n",
    "        print(\"Total amount is \",sub)\n",
    "    elif withdraw>amount:\n",
    "        print(\"No enough amount is in account\")\n",
    "    else:\n",
    "        print(\"transaction failed\")\n"
   ]
  },
  {
   "cell_type": "code",
   "execution_count": null,
   "metadata": {},
   "outputs": [],
   "source": []
  }
 ],
 "metadata": {
  "kernelspec": {
   "display_name": "Python 3",
   "language": "python",
   "name": "python3"
  },
  "language_info": {
   "codemirror_mode": {
    "name": "ipython",
    "version": 3
   },
   "file_extension": ".py",
   "mimetype": "text/x-python",
   "name": "python",
   "nbconvert_exporter": "python",
   "pygments_lexer": "ipython3",
   "version": "3.7.1"
  }
 },
 "nbformat": 4,
 "nbformat_minor": 2
}
