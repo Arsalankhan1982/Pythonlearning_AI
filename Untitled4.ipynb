{
 "cells": [
  {
   "cell_type": "code",
   "execution_count": 9,
   "metadata": {},
   "outputs": [
    {
     "name": "stdout",
     "output_type": "stream",
     "text": [
      "My date of birth is 19-May-2008 Arsalan Nawaz Khan is Muhammad Huzaifa father i am the son of  Arsalan Nawaz Khan\n"
     ]
    }
   ],
   "source": [
    "name = \"Muhammad Huzaifa\"\n",
    "father_name = \"Arsalan Nawaz Khan\"\n",
    "date_of_birth = \"19-May-2008\"\n",
    "print('My date of birth is',date_of_birth,father_name,'is',name,'father',\"i am the son of \",father_name)"
   ]
  },
  {
   "cell_type": "code",
   "execution_count": null,
   "metadata": {},
   "outputs": [],
   "source": []
  },
  {
   "cell_type": "code",
   "execution_count": null,
   "metadata": {},
   "outputs": [],
   "source": []
  }
 ],
 "metadata": {
  "kernelspec": {
   "display_name": "Python 3",
   "language": "python",
   "name": "python3"
  },
  "language_info": {
   "codemirror_mode": {
    "name": "ipython",
    "version": 3
   },
   "file_extension": ".py",
   "mimetype": "text/x-python",
   "name": "python",
   "nbconvert_exporter": "python",
   "pygments_lexer": "ipython3",
   "version": "3.7.1"
  }
 },
 "nbformat": 4,
 "nbformat_minor": 2
}
