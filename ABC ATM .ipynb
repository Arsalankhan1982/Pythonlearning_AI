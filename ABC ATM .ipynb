{
 "cells": [
  {
   "cell_type": "code",
   "execution_count": 4,
   "metadata": {},
   "outputs": [
    {
     "name": "stdout",
     "output_type": "stream",
     "text": [
      "****Welcome To ABC ATM****\n",
      "***swipe ur card***\n",
      "Enter Your Pin: 1111\n",
      "Selection You Transaction:\n",
      "1. Balance Inquiry\n",
      "\n",
      "2. Withdrawl\n",
      "\n",
      "3. Deposit\n",
      "\n",
      "4. Transfer Money\n",
      "\n",
      "5. Quit\n",
      "\n",
      "transcation:2\n",
      "Enter Your Amount To Withdrawl Money : 2000\n",
      "***Collect Your Cash***\n",
      "***Before Leaving Count Your Cash***\n",
      "***Thanks For Using ABC ATM***\n",
      "Your Current Balance Is : 8000\n"
     ]
    }
   ],
   "source": [
    "amount=10000\n",
    "transaction: [\"1\" , \"2\" , \"3\" , \"4\" , \"5\" ]\n",
    "print(\"****Welcome To ABC ATM****\")\n",
    "print(\"***swipe ur card***\")\n",
    "pin = int(input(\"Enter Your Pin: \"))\n",
    "if pin == 1111:\n",
    "    print(\"Selection You Transaction:\")\n",
    "    print(\"1. Balance Inquiry\\n\")\n",
    "    print(\"2. Withdrawl\\n\")\n",
    "    print(\"3. Deposit\\n\")\n",
    "    print(\"4. Transfer Money\\n\")\n",
    "    print(\"5. Quit\\n\")\n",
    "    trans=input(\"transcation:\")\n",
    "    if trans == \"1\":\n",
    "        print(\"Your Current Amount :\" ,amount)\n",
    "        print (\"***Thanks For Using ABC ATM***\")\n",
    "    elif trans == \"2\":\n",
    "        withdraw =int(input(\"Enter Your Amount To Withdrawl Money : \"))\n",
    "        if amount>0 :\n",
    "            print( \"***Collect Your Cash***\\n***Before Leaving Count Your Cash***\\n***Thanks For Using ABC ATM***\")\n",
    "            a= amount - withdraw\n",
    "            print(\"Your Current Balance Is :\" , a)\n",
    "        else:\n",
    "            amount<0\n",
    "            print(\" ***Not Enough Amount*** \")\n",
    "    elif trans == \"3\":\n",
    "        deposit= int (input(\"Enter Your Amount To Deposit: \"))\n",
    "        if deposit>0:\n",
    "            print(\"***Your Deposite Has Been Succefully Deposited***\\n***Thanks For Using ABC ATM***\")\n",
    "            b = amount + deposit\n",
    "            print(\"Your Current Balance Is :\", b)\n",
    "        else: \n",
    "            print (\"***We Are Unable To Make Your Transaction***\")\n",
    "            \n",
    "    elif trans == \"4\":\n",
    "        transfer_money= int(input(\"Enter Your Amount To Transfer: \"))\n",
    "        if transfer_money>10002:\n",
    "            print(\"***Your Hav'nt Enough Money***\\n******Thanks For Using ABC ATM***\")\n",
    "        else:\n",
    "            transfer_money= 10000< amount\n",
    "            print(\"***Your Money Has Been Transfered***\\n*** Thanks For Using ABC ATM***\")\n",
    "    elif trans == \"5\" :\n",
    "        Quit_1= input(\"Tap Yess To Quit!\")\n",
    "        if Quit_1 == \"Yess\":\n",
    "            Print(\"QUIT\")\n",
    "        else:\n",
    "            print (\"Please Choose Any Transaction:\")\n",
    "else:\n",
    "        print(\"Wrong Pin!!!, Try Again\")"
   ]
  },
  {
   "cell_type": "code",
   "execution_count": null,
   "metadata": {},
   "outputs": [],
   "source": []
  }
 ],
 "metadata": {
  "kernelspec": {
   "display_name": "Python 3",
   "language": "python",
   "name": "python3"
  },
  "language_info": {
   "codemirror_mode": {
    "name": "ipython",
    "version": 3
   },
   "file_extension": ".py",
   "mimetype": "text/x-python",
   "name": "python",
   "nbconvert_exporter": "python",
   "pygments_lexer": "ipython3",
   "version": "3.7.1"
  }
 },
 "nbformat": 4,
 "nbformat_minor": 2
}
