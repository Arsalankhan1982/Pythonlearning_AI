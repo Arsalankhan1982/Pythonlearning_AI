{
 "cells": [
  {
   "cell_type": "code",
   "execution_count": 1,
   "metadata": {},
   "outputs": [
    {
     "name": "stdout",
     "output_type": "stream",
     "text": [
      "Type the number for the table 16\n",
      "\n",
      "Type the range for the table 11\n",
      "\n",
      "Table for =  16\n",
      "you want the Range till =  11\n",
      "16 x 0 = 0\n",
      "16 x 1 = 16\n",
      "16 x 2 = 32\n",
      "16 x 3 = 48\n",
      "16 x 4 = 64\n",
      "16 x 5 = 80\n",
      "16 x 6 = 96\n",
      "16 x 7 = 112\n",
      "16 x 8 = 128\n",
      "16 x 9 = 144\n",
      "16 x 10 = 160\n"
     ]
    }
   ],
   "source": [
    "n=int(input(\"Type the number for the table \"))\n",
    "i=int(input(\"\\nType the range for the table \"))\n",
    "print(\"\\nTable for = \",n)\n",
    "print(\"you want the Range till = \",i)\n",
    "for i in range(i):\n",
    "    print(n,'x',i,'=',n*i)"
   ]
  },
  {
   "cell_type": "code",
   "execution_count": null,
   "metadata": {},
   "outputs": [],
   "source": [
    "num=int(input(\"Please your choice number: \"))\n",
    "i=int(input(\"Type the range:\"))\n",
    "for num in range(i+1):\n",
    "    for i in range(0,num+1):\n",
    "        print (num, end=\" \")\n",
    "        print(\"\\n\")"
   ]
  },
  {
   "cell_type": "code",
   "execution_count": 36,
   "metadata": {},
   "outputs": [
    {
     "name": "stdout",
     "output_type": "stream",
     "text": [
      "1 \r\n",
      "1 2 \r\n",
      "1 2 3 \r\n",
      "1 2 3 4 \r\n",
      "1 2 3 4 5 \r\n"
     ]
    }
   ],
   "source": [
    "\n",
    "# Python 3.x code to demonstrate star pattern \n",
    "  \n",
    "# Function to demonstrate printing pattern of numbers \n",
    "def numpat(n): \n",
    "      \n",
    "    # initialising starting number  \n",
    "    num = 1\n",
    "  \n",
    "    # outer loop to handle number of rows \n",
    "    for i in range(0, n): \n",
    "      \n",
    "        # re assigning num \n",
    "        num = 1\n",
    "      \n",
    "        # inner loop to handle number of columns \n",
    "            # values changing acc. to outer loop \n",
    "        for j in range(0, i+1): \n",
    "          \n",
    "                # printing number \n",
    "            print(num, end=\" \") \n",
    "          \n",
    "            # incrementing number at each column \n",
    "            num = num + 1\n",
    "      \n",
    "        # ending line after each row \n",
    "        print(\"\\r\") \n",
    "  \n",
    "# Driver code \n",
    "n = 5\n",
    "numpat(n) \n"
   ]
  },
  {
   "cell_type": "code",
   "execution_count": null,
   "metadata": {},
   "outputs": [],
   "source": []
  }
 ],
 "metadata": {
  "kernelspec": {
   "display_name": "Python 3",
   "language": "python",
   "name": "python3"
  },
  "language_info": {
   "codemirror_mode": {
    "name": "ipython",
    "version": 3
   },
   "file_extension": ".py",
   "mimetype": "text/x-python",
   "name": "python",
   "nbconvert_exporter": "python",
   "pygments_lexer": "ipython3",
   "version": "3.7.1"
  }
 },
 "nbformat": 4,
 "nbformat_minor": 2
}
